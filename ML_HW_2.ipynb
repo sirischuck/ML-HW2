{
  "nbformat": 4,
  "nbformat_minor": 0,
  "metadata": {
    "colab": {
      "provenance": [],
      "collapsed_sections": [],
      "authorship_tag": "ABX9TyMpSCIAgcvs/TUhpi4x0VNI",
      "include_colab_link": true
    },
    "kernelspec": {
      "name": "python3",
      "display_name": "Python 3"
    },
    "language_info": {
      "name": "python"
    }
  },
  "cells": [
    {
      "cell_type": "markdown",
      "metadata": {
        "id": "view-in-github",
        "colab_type": "text"
      },
      "source": [
        "<a href=\"https://colab.research.google.com/github/sirischuck/ML-HW2/blob/main/ML_HW_2.ipynb\" target=\"_parent\"><img src=\"https://colab.research.google.com/assets/colab-badge.svg\" alt=\"Open In Colab\"/></a>"
      ]
    },
    {
      "cell_type": "markdown",
      "source": [
        "These are the update rules for each of the parameters\n",
        "\n",
        "$w_2=:w_2-\\frac{dL}{dw_2}$\n",
        "\n",
        "$\\frac{dL}{dw_2}=\\frac{1}{n}*2*(y_i-\\hat{y}_i)*a_{1i}$\n",
        "\\\n",
        "\\\n",
        "$b_2=:b_2-\\frac{dL}{db_2}$\n",
        "\n",
        "$\\frac{dL}{db_2}=\\frac{1}{n}*2*(y-\\hat{y})$\n",
        "\\\n",
        "\\\n",
        "$w_1=:w_1-\\frac{dL}{dw_1}$\n",
        "\n",
        "$\\frac{dL}{dw_1}=\\frac{1}{n}*2*(y-\\hat{y})*a_1*(1-a_1)*x$\n",
        "\\\n",
        "\\\n",
        "$b_1=:b_1-\\frac{dL}{db_1}$\n",
        "\n",
        "$\\frac{dL}{db_2}=\\frac{1}{n}*2*(y-\\hat{y})*a_1*(1-a_1)$\n",
        "\n",
        "\n",
        "\n",
        "The update rules are different from a binary classification because the loss function and the output layer activation function are both different, so the $frac{dl}{da2}$ term and $frac{da2}{dz2}$ terms of your chain rule change, but the rest stays the same."
      ],
      "metadata": {
        "id": "gf3qxwGIx31i"
      }
    },
    {
      "cell_type": "code",
      "source": [
        "import numpy as np\n",
        "import csv\n",
        "import math\n",
        "import matplotlib.pyplot as plt"
      ],
      "metadata": {
        "id": "rltuDNVTI06S"
      },
      "execution_count": 103,
      "outputs": []
    },
    {
      "cell_type": "code",
      "source": [
        "def sigmoid(x):\n",
        "  return 1/(1+np.exp(-x))\n",
        "\n",
        "def dSigmoid(x):\n",
        "  return sigmoid(x)*(1-sigmoid(x))"
      ],
      "metadata": {
        "id": "4HqGfc9mW7ZX"
      },
      "execution_count": 104,
      "outputs": []
    },
    {
      "cell_type": "code",
      "source": [
        "#read in the training and test data\n",
        "\n",
        "#def CSVtoArray(file):\n",
        "#  temp = list(csv.reader(open(file), delimiter=' ', quotechar='|'))\n",
        "#  return np.array([[float(x)for x in row] for row in temp])\n",
        "\n",
        "xTest=np.loadtxt('X_test.csv')\n",
        "yTest=np.loadtxt('Y_test.csv')\n",
        "xTrain=np.loadtxt('X_train.csv')\n",
        "yTrain=np.loadtxt('Y_train.csv')\n"
      ],
      "metadata": {
        "id": "P9GgZnO4I4nS"
      },
      "execution_count": 105,
      "outputs": []
    },
    {
      "cell_type": "code",
      "source": [
        "def train(X,Y,alpha,eCount,nCount):\n",
        "  n=Y.size\n",
        "\n",
        "  #randomize initialize parameters\n",
        "  w1=np.random.rand(nCount,2)\n",
        "  b1=np.random.rand(nCount,1)\n",
        "  w2=np.random.rand(1,nCount)\n",
        "  b2=np.random.rand(1,1)\n",
        "\n",
        "  #calculate forward pass\n",
        "  z1 = np.dot(w1,X.T) + b1\n",
        "  a1 = sigmoid(z1)\n",
        "  z2 = np.dot(w2,a1) + b2\n",
        "  a2 = z2\n",
        "\n",
        "  iniErr=sum(((yTrain-a2)**2).T)/Y.size\n",
        "  #print('initial error is:', iniErr)\n",
        "\n",
        "  minErr=iniErr\n",
        "  minParam=(w1,b1,w2,b2)\n",
        "\n",
        "  for i in range(eCount):\n",
        "    \n",
        "    dLdz2s = 2*(Y.T-a2)\n",
        "    dLdw2 = np.dot(dLdz2s,a1.T)/n\n",
        "    dLdb2 = sum(dLdz2s.T)/n\n",
        "\n",
        "    dLdz1s= (np.dot(w2.T,dLdz2s) * dSigmoid(z1)).T\n",
        "    dLdw1=np.dot(dLdz1s.T,X)/n\n",
        "    dLdb1=(sum(dLdz1s)/n).reshape(b1.shape)\n",
        "\n",
        "    w1 = w1 + alpha*dLdw1\n",
        "    w2 = w2 + alpha*dLdw2\n",
        "    b1 = b1 + alpha*dLdb1\n",
        "    b2 = b2 + alpha*dLdb2\n",
        "\n",
        "    z1 = np.dot(w1,X.T) + b1\n",
        "    a1 = sigmoid(z1)\n",
        "    z2 = np.dot(w2,a1) + b2\n",
        "    a2 = z2\n",
        "\n",
        "    currErr=sum(((Y-a2)**2).T)/Y.size\n",
        "\n",
        "    if currErr<minErr:\n",
        "      minErr=currErr\n",
        "      minParam= (w1,b1,w2,b2)\n",
        "\n",
        "  #print(minErr)\n",
        "  return minParam"
      ],
      "metadata": {
        "id": "4ftJhiPikEO_"
      },
      "execution_count": 106,
      "outputs": []
    },
    {
      "cell_type": "code",
      "source": [
        "\n",
        "w1f, b1f, w2f, b2f=train(xTrain,yTrain,.1,250,4)\n",
        "\n",
        "z1 = np.dot(w1f,xTest.T) + b1f\n",
        "a1 = sigmoid(z1)\n",
        "z2 = np.dot(w2f,a1) + b2f\n",
        "a2 = z2\n",
        "\n",
        "currErr=sum(((yTest-a2)**2).T)/yTest.size\n",
        "print(currErr)"
      ],
      "metadata": {
        "colab": {
          "base_uri": "https://localhost:8080/"
        },
        "id": "PII12Gd42IBh",
        "outputId": "e53fc9a3-090f-4d5d-d3c5-053981e3cb7e"
      },
      "execution_count": 107,
      "outputs": [
        {
          "output_type": "stream",
          "name": "stdout",
          "text": [
            "[240.87097718]\n"
          ]
        }
      ]
    },
    {
      "cell_type": "code",
      "source": [
        "Losses=[]\n",
        "\n",
        "for i in range(250):\n",
        "  w1, b1, w2, b2=train(xTrain,yTrain,.1,i,4)\n",
        "  \n",
        "  z1 = np.dot(w1,xTest.T) + b1\n",
        "  a1 = sigmoid(z1)\n",
        "  z2 = np.dot(w2,a1) + b2\n",
        "  a2 = z2\n",
        "\n",
        "  currErr=sum(((yTest-a2)**2).T)/yTest.size\n",
        "  Losses.append(currErr)\n"
      ],
      "metadata": {
        "id": "7vegvgvtk5CR"
      },
      "execution_count": 108,
      "outputs": []
    },
    {
      "cell_type": "code",
      "source": [
        "\n",
        "plt.plot(range(len(Losses)),Losses)\n",
        "plt.xlabel('Epochs')\n",
        "plt.ylabel('MSE')"
      ],
      "metadata": {
        "colab": {
          "base_uri": "https://localhost:8080/",
          "height": 334
        },
        "id": "IyoTMzCbmtkP",
        "outputId": "cb12b0a5-318f-45ba-c28c-f40ab0887d67"
      },
      "execution_count": 109,
      "outputs": [
        {
          "output_type": "stream",
          "name": "stdout",
          "text": [
            "[array([5599.4071619]), array([5047.08841774]), array([3965.74860211]), array([3448.78138328]), array([3101.74274517]), array([2868.08267604]), array([2563.54813597]), array([2384.83591198]), array([2377.99608719]), array([2130.01863137]), array([2292.9237951]), array([2184.7884823]), array([2045.31253697]), array([1763.33150894]), array([1685.78149102]), array([1679.81039197]), array([1532.43550141]), array([1426.03968169]), array([1360.74379195]), array([1311.09188223]), array([1323.38581782]), array([1271.24909624]), array([1150.1458326]), array([1238.51875505]), array([1237.00122068]), array([1052.20422468]), array([1143.39356302]), array([1099.0476188]), array([1122.6811569]), array([960.18767315]), array([1048.03192558]), array([1007.35379987]), array([890.21677965]), array([996.88384594]), array([872.92961945]), array([868.86250386]), array([913.87691854]), array([847.75802146]), array([850.80810662]), array([720.97843295]), array([872.87504731]), array([851.54911774]), array([710.33205171]), array([775.69983926]), array([663.45185995]), array([640.65887406]), array([643.18477397]), array([648.26259326]), array([649.20672455]), array([653.18482362]), array([737.95631522]), array([711.06505592]), array([597.91141878]), array([593.93971098]), array([572.98826987]), array([585.20139685]), array([622.45786035]), array([683.14935456]), array([584.91563748]), array([576.08695845]), array([573.81688059]), array([643.20825372]), array([602.64062807]), array([539.46850187]), array([558.85572614]), array([650.819997]), array([519.18413418]), array([556.98361402]), array([516.82564281]), array([555.41976306]), array([533.93275728]), array([490.85020793]), array([493.70454005]), array([592.88894506]), array([493.70109601]), array([497.60022962]), array([565.73948753]), array([473.52700101]), array([500.6656746]), array([527.41346284]), array([674.23744727]), array([488.65806067]), array([523.50723043]), array([455.23664831]), array([452.56483608]), array([447.02700596]), array([497.96180545]), array([451.60587767]), array([421.17140925]), array([463.05301658]), array([426.6706464]), array([544.0236554]), array([402.55291082]), array([593.50858995]), array([397.07303881]), array([428.75242168]), array([416.93274473]), array([385.39114692]), array([415.58285547]), array([415.09394796]), array([376.16755458]), array([406.36252351]), array([387.57143362]), array([397.48135699]), array([357.21638708]), array([391.09829316]), array([386.13206864]), array([370.99446633]), array([401.3222783]), array([376.90660885]), array([615.952253]), array([409.83836898]), array([384.59003251]), array([341.25951865]), array([370.73585402]), array([382.97550945]), array([343.79547876]), array([395.50951035]), array([363.72550596]), array([343.05592292]), array([363.8853035]), array([360.50551169]), array([366.22836359]), array([691.86490308]), array([344.56939911]), array([358.4296595]), array([404.05354345]), array([369.05878447]), array([362.79204281]), array([359.52944702]), array([330.56199069]), array([357.50161797]), array([364.44838376]), array([410.12539105]), array([390.17898924]), array([364.10749611]), array([369.16521469]), array([326.16228868]), array([449.95339193]), array([345.62927549]), array([358.0322185]), array([327.12031693]), array([338.16825276]), array([652.30375816]), array([372.38399975]), array([369.86954803]), array([379.58179726]), array([405.88233007]), array([358.93962008]), array([311.51560745]), array([309.81042825]), array([338.48072217]), array([515.34129377]), array([556.61480634]), array([335.03571195]), array([560.80734488]), array([539.7715004]), array([407.50820365]), array([299.05855854]), array([315.34212837]), array([360.2064579]), array([378.62975442]), array([329.31057067]), array([330.28443624]), array([332.87238616]), array([567.01029322]), array([324.8365791]), array([315.90132654]), array([565.52011956]), array([464.93630084]), array([352.99618981]), array([303.511843]), array([322.2337536]), array([327.20492965]), array([349.16166229]), array([295.96032447]), array([303.62152955]), array([337.61976424]), array([287.28318825]), array([335.84343757]), array([286.02499319]), array([534.17746641]), array([323.76296776]), array([486.3919384]), array([320.54263197]), array([312.45861937]), array([356.94243782]), array([290.92673416]), array([300.82121407]), array([337.80150383]), array([315.7957244]), array([536.84916427]), array([332.4203816]), array([481.54659622]), array([563.76415817]), array([274.47667341]), array([312.17136389]), array([338.12331837]), array([568.23587956]), array([294.99877243]), array([319.71282408]), array([429.38954496]), array([300.50606097]), array([488.06676363]), array([429.94346896]), array([302.07005532]), array([406.45998723]), array([284.8572704]), array([334.34714084]), array([393.51269971]), array([390.11398138]), array([293.59423194]), array([257.3265501]), array([635.69318924]), array([318.67085924]), array([288.91448041]), array([315.0332391]), array([274.32231881]), array([307.3947905]), array([268.39778614]), array([307.80484248]), array([526.02867186]), array([580.05240254]), array([590.04328252]), array([288.05249759]), array([287.66699756]), array([433.82910792]), array([584.87467813]), array([256.23255499]), array([267.76106488]), array([300.63006753]), array([353.12756131]), array([284.20322419]), array([327.99106399]), array([545.23644726]), array([271.22718559]), array([489.63569495]), array([334.582473]), array([285.86213818]), array([258.69026656]), array([305.59568871]), array([560.62882813]), array([629.62321478]), array([300.23263724]), array([278.49839226]), array([348.17772994]), array([300.4799507]), array([450.95169867]), array([286.02238344]), array([631.0777379])]\n"
          ]
        },
        {
          "output_type": "execute_result",
          "data": {
            "text/plain": [
              "Text(0, 0.5, 'MSE')"
            ]
          },
          "metadata": {},
          "execution_count": 109
        },
        {
          "output_type": "display_data",
          "data": {
            "text/plain": [
              "<Figure size 432x288 with 1 Axes>"
            ],
            "image/png": "[encoded data removed]"
          },
          "metadata": {
            "needs_background": "light"
          }
        }
      ]
    },
    {
      "cell_type": "code",
      "source": [
        "Losses=[]\n",
        "\n",
        "\n",
        "\n",
        "for i in np.linspace(.001,1,100):\n",
        "  w1, b1, w2, b2=train(xTrain,yTrain,i,300,4)\n",
        "  \n",
        "  z1 = np.dot(w1,xTest.T) + b1\n",
        "  a1 = sigmoid(z1)\n",
        "  z2 = np.dot(w2,a1) + b2\n",
        "  a2 = z2\n",
        "\n",
        "  currErr=sum(((yTest-a2)**2).T)/yTest.size\n",
        "  Losses.append(currErr)"
      ],
      "metadata": {
        "colab": {
          "base_uri": "https://localhost:8080/"
        },
        "id": "JZWCUuy-n4s4",
        "outputId": "ee24ad78-e609-490e-cc1b-99d400965d9c"
      },
      "execution_count": 115,
      "outputs": [
        {
          "output_type": "stream",
          "name": "stderr",
          "text": [
            "/usr/local/lib/python3.7/dist-packages/ipykernel_launcher.py:2: RuntimeWarning: overflow encountered in exp\n",
            "  \n"
          ]
        }
      ]
    },
    {
      "cell_type": "code",
      "source": [
        "\n",
        "plt.plot(np.linspace(.001,1,len(Losses)),Losses)\n",
        "plt.xlabel('learning rate')\n",
        "plt.ylabel('MSE')"
      ],
      "metadata": {
        "colab": {
          "base_uri": "https://localhost:8080/",
          "height": 334
        },
        "id": "npCabzJwp6DC",
        "outputId": "a70d6b06-58db-44f8-9f46-da4c78b951f2"
      },
      "execution_count": 116,
      "outputs": [
        {
          "output_type": "stream",
          "name": "stdout",
          "text": [
            "[array([3321.98789983]), array([771.70984747]), array([427.61233855]), array([323.72318927]), array([311.58134994]), array([253.36319028]), array([245.3901913]), array([322.1751847]), array([294.46670571]), array([243.73376388]), array([339.89690856]), array([302.83579169]), array([373.09508244]), array([452.71741939]), array([354.53481233]), array([492.95582789]), array([335.23408308]), array([660.38960216]), array([450.37819918]), array([473.67537254]), array([617.87302237]), array([554.23238541]), array([478.18061206]), array([623.90267578]), array([349.17896365]), array([410.63308454]), array([471.08698543]), array([473.690214]), array([461.75289187]), array([680.61787269]), array([733.49798571]), array([400.04867986]), array([493.35938264]), array([481.54211189]), array([676.91482534]), array([716.49368921]), array([486.41464558]), array([804.41430958]), array([731.36005154]), array([779.35302611]), array([606.9920107]), array([746.64575823]), array([1183.09102366]), array([657.54706208]), array([788.64647736]), array([776.70122409]), array([964.64027871]), array([770.32344954]), array([819.64331736]), array([829.64620121]), array([1219.85183318]), array([1255.02864243]), array([1130.38782778]), array([1125.91719328]), array([1063.73190346]), array([948.4803966]), array([1280.00516336]), array([1957.24840441]), array([1063.25221863]), array([1080.24490877]), array([2042.83161694]), array([1875.13976444]), array([1272.17989196]), array([1922.7155143]), array([1864.21751585]), array([1115.60739072]), array([1314.40013418]), array([1602.21388915]), array([2212.15165247]), array([2301.34450069]), array([1318.23961227]), array([1827.83218032]), array([3981.31548126]), array([2067.48688978]), array([1553.90527348]), array([2466.63992306]), array([2057.28293049]), array([2408.826296]), array([1452.26724265]), array([2221.52917718]), array([5794.41031433]), array([4892.29810092]), array([1972.59638362]), array([4056.04841695]), array([2084.62538999]), array([2969.93770366]), array([4335.64873807]), array([1841.91867723]), array([4065.19729985]), array([4773.85260302]), array([5038.83688749]), array([3961.47218659]), array([3653.92263131]), array([4799.02963951]), array([3865.89946055]), array([5711.93135449]), array([4355.32934916]), array([4458.31776221]), array([5933.00452683]), array([5536.59309169])]\n"
          ]
        },
        {
          "output_type": "execute_result",
          "data": {
            "text/plain": [
              "Text(0, 0.5, 'MSE')"
            ]
          },
          "metadata": {},
          "execution_count": 116
        },
        {
          "output_type": "display_data",
          "data": {
            "text/plain": [
              "<Figure size 432x288 with 1 Axes>"
            ],
            "image/png": "[encoded data removed]"
          },
          "metadata": {
            "needs_background": "light"
          }
        }
      ]
    },
    {
      "cell_type": "code",
      "source": [
        "Losses=[]\n",
        "\n",
        "\n",
        "\n",
        "for i in range(1,11):\n",
        "  w1, b1, w2, b2=train(xTrain,yTrain,.1,400,i)\n",
        "  \n",
        "  z1 = np.dot(w1,xTest.T) + b1\n",
        "  a1 = sigmoid(z1)\n",
        "  z2 = np.dot(w2,a1) + b2\n",
        "  a2 = z2\n",
        "\n",
        "  currErr=sum(((yTest-a2)**2).T)/yTest.size\n",
        "  Losses.append(currErr[0])"
      ],
      "metadata": {
        "id": "FxUYdhChrI0W"
      },
      "execution_count": 137,
      "outputs": []
    },
    {
      "cell_type": "code",
      "source": [
        "\n",
        "for (loss,i) in zip(Losses,range(1,11)):\n",
        "  print('The loss with ',i,' neurons is', loss)\n",
        "\n",
        "plt.plot(range(len(Losses)),Losses,'^')\n",
        "plt.xlabel('number of neurons')\n",
        "plt.ylabel('MSE')\n"
      ],
      "metadata": {
        "colab": {
          "base_uri": "https://localhost:8080/",
          "height": 470
        },
        "id": "niiYsrVTrt58",
        "outputId": "df33c973-6cae-4279-9524-5011386c0eb1"
      },
      "execution_count": 138,
      "outputs": [
        {
          "output_type": "stream",
          "name": "stdout",
          "text": [
            "The loss with  1  neurons is 1700.5944000534773\n",
            "The loss with  2  neurons is 957.7850763204525\n",
            "The loss with  3  neurons is 578.2947218119351\n",
            "The loss with  4  neurons is 305.85445859020643\n",
            "The loss with  5  neurons is 195.83303268957695\n",
            "The loss with  6  neurons is 155.92704228646656\n",
            "The loss with  7  neurons is 191.2485894239437\n",
            "The loss with  8  neurons is 123.02196345063398\n",
            "The loss with  9  neurons is 122.5007482996421\n",
            "The loss with  10  neurons is 123.01135759003472\n"
          ]
        },
        {
          "output_type": "execute_result",
          "data": {
            "text/plain": [
              "Text(0, 0.5, 'MSE')"
            ]
          },
          "metadata": {},
          "execution_count": 138
        },
        {
          "output_type": "display_data",
          "data": {
            "text/plain": [
              "<Figure size 432x288 with 1 Axes>"
            ],
            "image/png": "[encoded data removed]"
          },
          "metadata": {
            "needs_background": "light"
          }
        }
      ]
    },
    {
      "cell_type": "code",
      "source": [
        "def tanh(x):\n",
        "  return(np.exp(2*x)-1/(np.exp(2*x)+1))\n",
        "\n",
        "def dtanh(x):\n",
        "  return(1- tanh(x)**2)\n",
        "\n",
        "def tanhtrain(X,Y,alpha,eCount,nCount):\n",
        "  n=Y.size\n",
        "\n",
        "  #randomize initialize parameters\n",
        "  w1=np.random.rand(nCount,2)\n",
        "  b1=np.random.rand(nCount,1)\n",
        "  w2=np.random.rand(1,nCount)\n",
        "  b2=np.random.rand(1,1)\n",
        "\n",
        "  #calculate forward pass\n",
        "  z1 = np.dot(w1,X.T) + b1\n",
        "  a1 = tanh(z1)\n",
        "  z2 = np.dot(w2,a1) + b2\n",
        "  a2 = z2\n",
        "\n",
        "  iniErr=sum(((yTrain-a2)**2).T)/Y.size\n",
        "  print('initial error is:', iniErr)\n",
        "\n",
        "  minErr=iniErr\n",
        "  minParam=(w1,b1,w2,b2)\n",
        "\n",
        "  for i in range(eCount):\n",
        "    \n",
        "    dLdz2s = 2*(Y.T-a2)\n",
        "    dLdw2 = np.dot(dLdz2s,a1.T)/n\n",
        "    dLdb2 = sum(dLdz2s.T)/n\n",
        "\n",
        "    dLdz1s= (np.dot(w2.T,dLdz2s) * dtanh(z1)).T\n",
        "    dLdw1=np.dot(dLdz1s.T,X)/n\n",
        "    dLdb1=(sum(dLdz1s)/n).reshape(b1.shape)\n",
        "\n",
        "    w1 = w1 + alpha*dLdw1\n",
        "    w2 = w2 + alpha*dLdw2\n",
        "    b1 = b1 + alpha*dLdb1\n",
        "    b2 = b2 + alpha*dLdb2\n",
        "\n",
        "    z1 = np.dot(w1,X.T) + b1\n",
        "    a1 = tanh(z1)\n",
        "    z2 = np.dot(w2,a1) + b2\n",
        "    a2 = z2\n",
        "\n",
        "    currErr=sum(((Y-a2)**2).T)/Y.size\n",
        "\n",
        "    if currErr<minErr:\n",
        "      minErr=currErr\n",
        "      minParam= (w1,b1,w2,b2)\n",
        "\n",
        "  #print(minErr)\n",
        "  return minParam\n",
        "\n"
      ],
      "metadata": {
        "id": "N8-MZypeu7XM"
      },
      "execution_count": 163,
      "outputs": []
    },
    {
      "cell_type": "code",
      "source": [
        "def lin(x):\n",
        "  return(x)\n",
        "\n",
        "def dlin(x):\n",
        "  return(np.ones(x.shape))\n",
        "\n",
        "def lintrain(X,Y,alpha,eCount,nCount):\n",
        "  n=Y.size\n",
        "\n",
        "  #randomize initialize parameters\n",
        "  w1=np.random.rand(nCount,2)\n",
        "  b1=np.random.rand(nCount,1)\n",
        "  w2=np.random.rand(1,nCount)\n",
        "  b2=np.random.rand(1,1)\n",
        "\n",
        "  #calculate forward pass\n",
        "  z1 = np.dot(w1,X.T) + b1\n",
        "  a1 = lin(z1)\n",
        "  z2 = np.dot(w2,a1) + b2\n",
        "  a2 = z2\n",
        "\n",
        "  iniErr=sum(((yTrain-a2)**2).T)/Y.size\n",
        "  #print('initial error is:', iniErr)\n",
        "\n",
        "  minErr=iniErr\n",
        "  minParam=(w1,b1,w2,b2)\n",
        "\n",
        "  for i in range(eCount):\n",
        "    \n",
        "    dLdz2s = 2*(Y.T-a2)\n",
        "    dLdw2 = np.dot(dLdz2s,a1.T)/n\n",
        "    dLdb2 = sum(dLdz2s.T)/n\n",
        "\n",
        "    dLdz1s= (np.dot(w2.T,dLdz2s) * dlin(z1)).T\n",
        "    dLdw1=np.dot(dLdz1s.T,X)/n\n",
        "    dLdb1=(sum(dLdz1s)/n).reshape(b1.shape)\n",
        "\n",
        "    w1 = w1 + alpha*dLdw1\n",
        "    w2 = w2 + alpha*dLdw2\n",
        "    b1 = b1 + alpha*dLdb1\n",
        "    b2 = b2 + alpha*dLdb2\n",
        "\n",
        "    z1 = np.dot(w1,X.T) + b1\n",
        "    a1 = lin(z1)\n",
        "    z2 = np.dot(w2,a1) + b2\n",
        "    a2 = z2\n",
        "\n",
        "    currErr=sum(((Y-a2)**2).T)/Y.size\n",
        "\n",
        "    if currErr<minErr:\n",
        "      minErr=currErr\n",
        "      minParam= (w1,b1,w2,b2)\n",
        "\n",
        "  #print(minErr)\n",
        "  return minParam"
      ],
      "metadata": {
        "id": "mBTEbMeBv59p"
      },
      "execution_count": 157,
      "outputs": []
    },
    {
      "cell_type": "code",
      "source": [
        "w1,b1,w2,b2=lintrain(xTrain,yTrain,.1,250,5)\n",
        "\n",
        "z1 = np.dot(w1,xTest.T) + b1\n",
        "a1 = lin(z1)\n",
        "z2 = np.dot(w2,a1) + b2\n",
        "a2 = z2\n",
        "\n",
        "currErr=sum(((yTest-a2)**2).T)/yTest.size\n",
        "print(currErr)"
      ],
      "metadata": {
        "colab": {
          "base_uri": "https://localhost:8080/"
        },
        "id": "B86CIo06wPad",
        "outputId": "6d90f9e0-9896-4554-9730-abd70df6d2e4"
      },
      "execution_count": 161,
      "outputs": [
        {
          "output_type": "stream",
          "name": "stdout",
          "text": [
            "[5438.46101238]\n"
          ]
        },
        {
          "output_type": "stream",
          "name": "stderr",
          "text": [
            "/usr/local/lib/python3.7/dist-packages/ipykernel_launcher.py:48: RuntimeWarning: overflow encountered in square\n",
            "/usr/local/lib/python3.7/dist-packages/ipykernel_launcher.py:32: RuntimeWarning: invalid value encountered in add\n",
            "/usr/local/lib/python3.7/dist-packages/ipykernel_launcher.py:36: RuntimeWarning: invalid value encountered in add\n"
          ]
        }
      ]
    },
    {
      "cell_type": "code",
      "source": [
        "w1,b1,w2,b2=tanhtrain(xTrain,yTrain,.01,250,5)\n",
        "\n",
        "z1 = np.dot(w1,xTest.T) + b1\n",
        "a1 = tanh(z1)\n",
        "z2 = np.dot(w2,a1) + b2\n",
        "a2 = z2\n",
        "\n",
        "currErr=sum(((yTest-a2)**2).T)/yTest.size\n",
        "print(currErr)"
      ],
      "metadata": {
        "colab": {
          "base_uri": "https://localhost:8080/"
        },
        "id": "qtoLyBrRwPmv",
        "outputId": "e17d218a-8bbf-4d63-e559-dbfd745478a1"
      },
      "execution_count": 167,
      "outputs": [
        {
          "output_type": "stream",
          "name": "stdout",
          "text": [
            "initial error is: [64210.50269832]\n",
            "[3351.40939078]\n"
          ]
        },
        {
          "output_type": "stream",
          "name": "stderr",
          "text": [
            "/usr/local/lib/python3.7/dist-packages/ipykernel_launcher.py:2: RuntimeWarning: overflow encountered in exp\n",
            "  \n",
            "/usr/local/lib/python3.7/dist-packages/ipykernel_launcher.py:5: RuntimeWarning: overflow encountered in square\n",
            "  \"\"\"\n"
          ]
        }
      ]
    },
    {
      "cell_type": "markdown",
      "source": [
        "1. The activation function for the output layer is the identity, or a2=z2, because for a regression task there is no reason to compress the data to form a probability, and the lables range a lot in scale.\n",
        "2. Only one neuron in the output layer because the label only has one dimension.\n",
        "3. The MSE after training for 250 epochs is 138 over the test data\n",
        "4.\n",
        "5. The Learning rate affects how the model converges. If a learning rate is high it means that the model will take large steps along the gradient, and often overshoot the minimum, and if it is low it will take more iterations to converge.\n",
        "6. \n",
        "a.The Update rule is independant of the number of neurons, because all of the operations work the same no matter how large the vectors are.\\\n",
        "b.In General the loss falls off very quickly as the number of neurons starts to grow, but the gains made slow as the neuron count grows higher.\n",
        "7.\n",
        "a.Yes the update rule changes, but not by too much.\\\n",
        "b.The only difference is that the $\\frac{da1}{dz1}$ term in your chain rule changes. \\\n",
        "c.after only a few changes the new equations popped out and did significantly worse than sigmoid. linear activation did about as badly as a randomized sigmoid and tanh only did slightly better."
      ],
      "metadata": {
        "id": "sDj696N91dI3"
      }
    }
  ]
}