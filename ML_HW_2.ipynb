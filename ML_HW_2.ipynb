{
  "nbformat": 4,
  "nbformat_minor": 0,
  "metadata": {
    "colab": {
      "provenance": [],
      "collapsed_sections": [],
      "authorship_tag": "ABX9TyOCY+CPr1Nw/CeKISCx4Ere",
      "include_colab_link": true
    },
    "kernelspec": {
      "name": "python3",
      "display_name": "Python 3"
    },
    "language_info": {
      "name": "python"
    }
  },
  "cells": [
    {
      "cell_type": "markdown",
      "metadata": {
        "id": "view-in-github",
        "colab_type": "text"
      },
      "source": [
        "<a href=\"https://colab.research.google.com/github/sirischuck/ML-HW2/blob/main/ML_HW_2.ipynb\" target=\"_parent\"><img src=\"https://colab.research.google.com/assets/colab-badge.svg\" alt=\"Open In Colab\"/></a>"
      ]
    },
    {
      "cell_type": "markdown",
      "source": [
        "These are the update rules for each of the parameters\n",
        "\n",
        "$w_2=:w_2-\\frac{dL}{dw_2}$\n",
        "\n",
        "$\\frac{dL}{dw_2}=\\frac{1}{n}*2*(y_i-\\hat{y}_i)*a_{1i}$\n",
        "\\\n",
        "\\\n",
        "$b_2=:b_2-\\frac{dL}{db_2}$\n",
        "\n",
        "$\\frac{dL}{db_2}=\\frac{1}{n}*2*(y-\\hat{y})$\n",
        "\\\n",
        "\\\n",
        "$w_1=:w_1-\\frac{dL}{dw_1}$\n",
        "\n",
        "$\\frac{dL}{dw_1}=\\frac{1}{n}*2*(y-\\hat{y})*a_1*(1-a_1)*x$\n",
        "\\\n",
        "\\\n",
        "$b_1=:b_1-\\frac{dL}{db_1}$\n",
        "\n",
        "$\\frac{dL}{db_2}=\\frac{1}{n}*2*(y-\\hat{y})*a_1*(1-a_1)$\n",
        "\n",
        "\n",
        "\n",
        "The update rules are different from a binary classification because the loss function and the output layer activation function are both different, so the $frac{dl}{da2}$ term and $frac{da2}{dz2}$ terms of your chain rule change, but the rest stays the same."
      ],
      "metadata": {
        "id": "gf3qxwGIx31i"
      }
    },
    {
      "cell_type": "code",
      "source": [
        "import numpy as np\n",
        "import csv\n",
        "import math\n",
        "import matplotlib.pyplot as plt"
      ],
      "metadata": {
        "id": "rltuDNVTI06S"
      },
      "execution_count": 103,
      "outputs": []
    },
    {
      "cell_type": "code",
      "source": [
        "def sigmoid(x):\n",
        "  return 1/(1+np.exp(-x))\n",
        "\n",
        "def dSigmoid(x):\n",
        "  return sigmoid(x)*(1-sigmoid(x))"
      ],
      "metadata": {
        "id": "4HqGfc9mW7ZX"
      },
      "execution_count": 104,
      "outputs": []
    },
    {
      "cell_type": "code",
      "source": [
        "#read in the training and test data\n",
        "\n",
        "#def CSVtoArray(file):\n",
        "#  temp = list(csv.reader(open(file), delimiter=' ', quotechar='|'))\n",
        "#  return np.array([[float(x)for x in row] for row in temp])\n",
        "\n",
        "xTest=np.loadtxt('X_test.csv')\n",
        "yTest=np.loadtxt('Y_test.csv')\n",
        "xTrain=np.loadtxt('X_train.csv')\n",
        "yTrain=np.loadtxt('Y_train.csv')\n"
      ],
      "metadata": {
        "id": "P9GgZnO4I4nS"
      },
      "execution_count": 105,
      "outputs": []
    },
    {
      "cell_type": "code",
      "source": [
        "def train(X,Y,alpha,eCount,nCount):\n",
        "  n=Y.size\n",
        "\n",
        "  #randomize initialize parameters\n",
        "  w1=np.random.rand(nCount,2)\n",
        "  b1=np.random.rand(nCount,1)\n",
        "  w2=np.random.rand(1,nCount)\n",
        "  b2=np.random.rand(1,1)\n",
        "\n",
        "  #calculate forward pass\n",
        "  z1 = np.dot(w1,X.T) + b1\n",
        "  a1 = sigmoid(z1)\n",
        "  z2 = np.dot(w2,a1) + b2\n",
        "  a2 = z2\n",
        "\n",
        "  iniErr=sum(((yTrain-a2)**2).T)/Y.size\n",
        "  #print('initial error is:', iniErr)\n",
        "\n",
        "  minErr=iniErr\n",
        "  minParam=(w1,b1,w2,b2)\n",
        "\n",
        "  for i in range(eCount):\n",
        "    \n",
        "    dLdz2s = 2*(Y.T-a2)\n",
        "    dLdw2 = np.dot(dLdz2s,a1.T)/n\n",
        "    dLdb2 = sum(dLdz2s.T)/n\n",
        "\n",
        "    dLdz1s= (np.dot(w2.T,dLdz2s) * dSigmoid(z1)).T\n",
        "    dLdw1=np.dot(dLdz1s.T,X)/n\n",
        "    dLdb1=(sum(dLdz1s)/n).reshape(b1.shape)\n",
        "\n",
        "    w1 = w1 + alpha*dLdw1\n",
        "    w2 = w2 + alpha*dLdw2\n",
        "    b1 = b1 + alpha*dLdb1\n",
        "    b2 = b2 + alpha*dLdb2\n",
        "\n",
        "    z1 = np.dot(w1,X.T) + b1\n",
        "    a1 = sigmoid(z1)\n",
        "    z2 = np.dot(w2,a1) + b2\n",
        "    a2 = z2\n",
        "\n",
        "    currErr=sum(((Y-a2)**2).T)/Y.size\n",
        "\n",
        "    if currErr<minErr:\n",
        "      minErr=currErr\n",
        "      minParam= (w1,b1,w2,b2)\n",
        "\n",
        "  #print(minErr)\n",
        "  return minParam"
      ],
      "metadata": {
        "id": "4ftJhiPikEO_"
      },
      "execution_count": 106,
      "outputs": []
    },
    {
      "cell_type": "code",
      "source": [
        "\n",
        "w1f, b1f, w2f, b2f=train(xTrain,yTrain,.1,250,4)\n",
        "\n",
        "z1 = np.dot(w1f,xTest.T) + b1f\n",
        "a1 = sigmoid(z1)\n",
        "z2 = np.dot(w2f,a1) + b2f\n",
        "a2 = z2\n",
        "\n",
        "currErr=sum(((yTest-a2)**2).T)/yTest.size\n",
        "print(currErr)"
      ],
      "metadata": {
        "colab": {
          "base_uri": "https://localhost:8080/"
        },
        "id": "PII12Gd42IBh",
        "outputId": "e53fc9a3-090f-4d5d-d3c5-053981e3cb7e"
      },
      "execution_count": 107,
      "outputs": [
        {
          "output_type": "stream",
          "name": "stdout",
          "text": [
            "[240.87097718]\n"
          ]
        }
      ]
    },
    {
      "cell_type": "code",
      "source": [
        "Losses=[]\n",
        "\n",
        "for i in range(250):\n",
        "  w1, b1, w2, b2=train(xTrain,yTrain,.1,i,4)\n",
        "  \n",
        "  z1 = np.dot(w1,xTest.T) + b1\n",
        "  a1 = sigmoid(z1)\n",
        "  z2 = np.dot(w2,a1) + b2\n",
        "  a2 = z2\n",
        "\n",
        "  currErr=sum(((yTest-a2)**2).T)/yTest.size\n",
        "  Losses.append(currErr)\n"
      ],
      "metadata": {
        "id": "7vegvgvtk5CR"
      },
      "execution_count": 108,
      "outputs": []
    },
    {
      "cell_type": "code",
      "source": [
        "\n",
        "plt.plot(range(len(Losses)),Losses)\n",
        "plt.xlabel('Epochs')\n",
        "plt.ylabel('MSE')\n",
        "plt.show()"
      ],
      "metadata": {
        "colab": {
          "base_uri": "https://localhost:8080/",
          "height": 279
        },
        "id": "IyoTMzCbmtkP",
        "outputId": "7df5e8d4-4410-4536-ea22-1c541607f218"
      },
      "execution_count": 168,
      "outputs": [
        {
          "output_type": "display_data",
          "data": {
            "text/plain": [
              "<Figure size 432x288 with 1 Axes>"
            ],
            "image/png": "[encoded data removed]"
          },
          "metadata": {
            "needs_background": "light"
          }
        }
      ]
    },
    {
      "cell_type": "code",
      "source": [
        "Losses=[]\n",
        "\n",
        "\n",
        "\n",
        "for i in np.linspace(.001,1,100):\n",
        "  w1, b1, w2, b2=train(xTrain,yTrain,i,300,4)\n",
        "  \n",
        "  z1 = np.dot(w1,xTest.T) + b1\n",
        "  a1 = sigmoid(z1)\n",
        "  z2 = np.dot(w2,a1) + b2\n",
        "  a2 = z2\n",
        "\n",
        "  currErr=sum(((yTest-a2)**2).T)/yTest.size\n",
        "  Losses.append(currErr)"
      ],
      "metadata": {
        "colab": {
          "base_uri": "https://localhost:8080/"
        },
        "id": "JZWCUuy-n4s4",
        "outputId": "ee24ad78-e609-490e-cc1b-99d400965d9c"
      },
      "execution_count": 115,
      "outputs": [
        {
          "output_type": "stream",
          "name": "stderr",
          "text": [
            "/usr/local/lib/python3.7/dist-packages/ipykernel_launcher.py:2: RuntimeWarning: overflow encountered in exp\n",
            "  \n"
          ]
        }
      ]
    },
    {
      "cell_type": "code",
      "source": [
        "\n",
        "plt.plot(np.linspace(.001,1,len(Losses)),Losses)\n",
        "plt.xlabel('learning rate')\n",
        "plt.ylabel('MSE')\n",
        "plt.show()"
      ],
      "metadata": {
        "colab": {
          "base_uri": "https://localhost:8080/",
          "height": 279
        },
        "id": "npCabzJwp6DC",
        "outputId": "e53688f2-6d84-465f-8c41-7922309abfb2"
      },
      "execution_count": 169,
      "outputs": [
        {
          "output_type": "display_data",
          "data": {
            "text/plain": [
              "<Figure size 432x288 with 1 Axes>"
            ],
            "image/png": "[encoded data removed]"
          },
          "metadata": {
            "needs_background": "light"
          }
        }
      ]
    },
    {
      "cell_type": "code",
      "source": [
        "Losses=[]\n",
        "\n",
        "\n",
        "\n",
        "for i in range(1,11):\n",
        "  w1, b1, w2, b2=train(xTrain,yTrain,.1,400,i)\n",
        "  \n",
        "  z1 = np.dot(w1,xTest.T) + b1\n",
        "  a1 = sigmoid(z1)\n",
        "  z2 = np.dot(w2,a1) + b2\n",
        "  a2 = z2\n",
        "\n",
        "  currErr=sum(((yTest-a2)**2).T)/yTest.size\n",
        "  Losses.append(currErr[0])"
      ],
      "metadata": {
        "id": "FxUYdhChrI0W"
      },
      "execution_count": 137,
      "outputs": []
    },
    {
      "cell_type": "code",
      "source": [
        "\n",
        "for (loss,i) in zip(Losses,range(1,11)):\n",
        "  print('The loss with ',i,' neurons is', loss)\n",
        "\n",
        "plt.plot(range(len(Losses)),Losses,'^')\n",
        "plt.xlabel('number of neurons')\n",
        "plt.ylabel('MSE')\n",
        "plt.show()\n"
      ],
      "metadata": {
        "colab": {
          "base_uri": "https://localhost:8080/",
          "height": 453
        },
        "id": "niiYsrVTrt58",
        "outputId": "565cb812-63db-4cee-f3ee-3d28ba80da3e"
      },
      "execution_count": 170,
      "outputs": [
        {
          "output_type": "stream",
          "name": "stdout",
          "text": [
            "The loss with  1  neurons is 1700.5944000534773\n",
            "The loss with  2  neurons is 957.7850763204525\n",
            "The loss with  3  neurons is 578.2947218119351\n",
            "The loss with  4  neurons is 305.85445859020643\n",
            "The loss with  5  neurons is 195.83303268957695\n",
            "The loss with  6  neurons is 155.92704228646656\n",
            "The loss with  7  neurons is 191.2485894239437\n",
            "The loss with  8  neurons is 123.02196345063398\n",
            "The loss with  9  neurons is 122.5007482996421\n",
            "The loss with  10  neurons is 123.01135759003472\n"
          ]
        },
        {
          "output_type": "display_data",
          "data": {
            "text/plain": [
              "<Figure size 432x288 with 1 Axes>"
            ],
            "image/png": "[encoded data removed]"
          },
          "metadata": {
            "needs_background": "light"
          }
        }
      ]
    },
    {
      "cell_type": "code",
      "source": [
        "def tanh(x):\n",
        "  return(np.exp(2*x)-1/(np.exp(2*x)+1))\n",
        "\n",
        "def dtanh(x):\n",
        "  return(1- tanh(x)**2)\n",
        "\n",
        "def tanhtrain(X,Y,alpha,eCount,nCount):\n",
        "  n=Y.size\n",
        "\n",
        "  #randomize initialize parameters\n",
        "  w1=np.random.rand(nCount,2)\n",
        "  b1=np.random.rand(nCount,1)\n",
        "  w2=np.random.rand(1,nCount)\n",
        "  b2=np.random.rand(1,1)\n",
        "\n",
        "  #calculate forward pass\n",
        "  z1 = np.dot(w1,X.T) + b1\n",
        "  a1 = tanh(z1)\n",
        "  z2 = np.dot(w2,a1) + b2\n",
        "  a2 = z2\n",
        "\n",
        "  iniErr=sum(((yTrain-a2)**2).T)/Y.size\n",
        "  print('initial error is:', iniErr)\n",
        "\n",
        "  minErr=iniErr\n",
        "  minParam=(w1,b1,w2,b2)\n",
        "\n",
        "  for i in range(eCount):\n",
        "    \n",
        "    dLdz2s = 2*(Y.T-a2)\n",
        "    dLdw2 = np.dot(dLdz2s,a1.T)/n\n",
        "    dLdb2 = sum(dLdz2s.T)/n\n",
        "\n",
        "    dLdz1s= (np.dot(w2.T,dLdz2s) * dtanh(z1)).T\n",
        "    dLdw1=np.dot(dLdz1s.T,X)/n\n",
        "    dLdb1=(sum(dLdz1s)/n).reshape(b1.shape)\n",
        "\n",
        "    w1 = w1 + alpha*dLdw1\n",
        "    w2 = w2 + alpha*dLdw2\n",
        "    b1 = b1 + alpha*dLdb1\n",
        "    b2 = b2 + alpha*dLdb2\n",
        "\n",
        "    z1 = np.dot(w1,X.T) + b1\n",
        "    a1 = tanh(z1)\n",
        "    z2 = np.dot(w2,a1) + b2\n",
        "    a2 = z2\n",
        "\n",
        "    currErr=sum(((Y-a2)**2).T)/Y.size\n",
        "\n",
        "    if currErr<minErr:\n",
        "      minErr=currErr\n",
        "      minParam= (w1,b1,w2,b2)\n",
        "\n",
        "  #print(minErr)\n",
        "  return minParam\n",
        "\n"
      ],
      "metadata": {
        "id": "N8-MZypeu7XM"
      },
      "execution_count": 163,
      "outputs": []
    },
    {
      "cell_type": "code",
      "source": [
        "def lin(x):\n",
        "  return(x)\n",
        "\n",
        "def dlin(x):\n",
        "  return(np.ones(x.shape))\n",
        "\n",
        "def lintrain(X,Y,alpha,eCount,nCount):\n",
        "  n=Y.size\n",
        "\n",
        "  #randomize initialize parameters\n",
        "  w1=np.random.rand(nCount,2)\n",
        "  b1=np.random.rand(nCount,1)\n",
        "  w2=np.random.rand(1,nCount)\n",
        "  b2=np.random.rand(1,1)\n",
        "\n",
        "  #calculate forward pass\n",
        "  z1 = np.dot(w1,X.T) + b1\n",
        "  a1 = lin(z1)\n",
        "  z2 = np.dot(w2,a1) + b2\n",
        "  a2 = z2\n",
        "\n",
        "  iniErr=sum(((yTrain-a2)**2).T)/Y.size\n",
        "  print('initial error is:', iniErr)\n",
        "\n",
        "  minErr=iniErr\n",
        "  minParam=(w1,b1,w2,b2)\n",
        "\n",
        "  for i in range(eCount):\n",
        "    \n",
        "    dLdz2s = 2*(Y.T-a2)\n",
        "    dLdw2 = np.dot(dLdz2s,a1.T)/n\n",
        "    dLdb2 = sum(dLdz2s.T)/n\n",
        "\n",
        "    dLdz1s= (np.dot(w2.T,dLdz2s) * dlin(z1)).T\n",
        "    dLdw1=np.dot(dLdz1s.T,X)/n\n",
        "    dLdb1=(sum(dLdz1s)/n).reshape(b1.shape)\n",
        "\n",
        "    w1 = w1 + alpha*dLdw1\n",
        "    w2 = w2 + alpha*dLdw2\n",
        "    b1 = b1 + alpha*dLdb1\n",
        "    b2 = b2 + alpha*dLdb2\n",
        "\n",
        "    z1 = np.dot(w1,X.T) + b1\n",
        "    a1 = lin(z1)\n",
        "    z2 = np.dot(w2,a1) + b2\n",
        "    a2 = z2\n",
        "\n",
        "    currErr=sum(((Y-a2)**2).T)/Y.size\n",
        "\n",
        "    if currErr<minErr:\n",
        "      minErr=currErr\n",
        "      minParam= (w1,b1,w2,b2)\n",
        "\n",
        "  #print(minErr)\n",
        "  return minParam"
      ],
      "metadata": {
        "id": "mBTEbMeBv59p"
      },
      "execution_count": 171,
      "outputs": []
    },
    {
      "cell_type": "code",
      "source": [
        "w1,b1,w2,b2=lintrain(xTrain,yTrain,.1,250,5)\n",
        "\n",
        "z1 = np.dot(w1,xTest.T) + b1\n",
        "a1 = lin(z1)\n",
        "z2 = np.dot(w2,a1) + b2\n",
        "a2 = z2\n",
        "\n",
        "currErr=sum(((yTest-a2)**2).T)/yTest.size\n",
        "print('current error is', currErr)"
      ],
      "metadata": {
        "colab": {
          "base_uri": "https://localhost:8080/"
        },
        "id": "B86CIo06wPad",
        "outputId": "b444b330-1348-4a51-e11f-a6fb773d323f"
      },
      "execution_count": 174,
      "outputs": [
        {
          "output_type": "stream",
          "name": "stdout",
          "text": [
            "initial error is: [5474.75429264]\n",
            "current error is [5409.01254145]\n"
          ]
        },
        {
          "output_type": "stream",
          "name": "stderr",
          "text": [
            "/usr/local/lib/python3.7/dist-packages/ipykernel_launcher.py:48: RuntimeWarning: overflow encountered in square\n",
            "/usr/local/lib/python3.7/dist-packages/ipykernel_launcher.py:32: RuntimeWarning: invalid value encountered in add\n",
            "/usr/local/lib/python3.7/dist-packages/ipykernel_launcher.py:36: RuntimeWarning: invalid value encountered in add\n"
          ]
        }
      ]
    },
    {
      "cell_type": "code",
      "source": [
        "w1,b1,w2,b2=tanhtrain(xTrain,yTrain,.01,250,5)\n",
        "\n",
        "z1 = np.dot(w1,xTest.T) + b1\n",
        "a1 = tanh(z1)\n",
        "z2 = np.dot(w2,a1) + b2\n",
        "a2 = z2\n",
        "\n",
        "currErr=sum(((yTest-a2)**2).T)/yTest.size\n",
        "print(currErr)"
      ],
      "metadata": {
        "colab": {
          "base_uri": "https://localhost:8080/"
        },
        "id": "qtoLyBrRwPmv",
        "outputId": "e17d218a-8bbf-4d63-e559-dbfd745478a1"
      },
      "execution_count": 167,
      "outputs": [
        {
          "output_type": "stream",
          "name": "stdout",
          "text": [
            "initial error is: [64210.50269832]\n",
            "[3351.40939078]\n"
          ]
        },
        {
          "output_type": "stream",
          "name": "stderr",
          "text": [
            "/usr/local/lib/python3.7/dist-packages/ipykernel_launcher.py:2: RuntimeWarning: overflow encountered in exp\n",
            "  \n",
            "/usr/local/lib/python3.7/dist-packages/ipykernel_launcher.py:5: RuntimeWarning: overflow encountered in square\n",
            "  \"\"\"\n"
          ]
        }
      ]
    },
    {
      "cell_type": "markdown",
      "source": [
        "1. The activation function for the output layer is the identity, or a2=z2, because for a regression task there is no reason to compress the data to form a probability, and the lables range a lot in scale.\n",
        "2. Only one neuron in the output layer because the label only has one dimension.\n",
        "3. The MSE after training for 250 epochs is 138 over the test data\n",
        "4. graph is shown in the code above\n",
        "5. The Learning rate affects how the model converges. If a learning rate is high it means that the model will take large steps along the gradient, and often overshoot the minimum, and if it is low it will take more iterations to converge.\n",
        "6. \n",
        "a.The Update rule is independant of the number of neurons, because all of the operations work the same no matter how large the vectors are.\n",
        "\n",
        "b.In General the loss falls off very quickly as the number of neurons starts to grow, but the gains made slow as the neuron count grows higher.\n",
        "\n",
        "7.\n",
        "\n",
        "a.Yes the update rule changes, but not by too much.\n",
        "\n",
        "b.The only difference is that the $\\frac{da1}{dz1}$ term in your chain rule changes. \n",
        "\n",
        "c.after only a few changes the new equations popped out and did significantly worse than sigmoid. linear activation did about as badly as a randomized sigmoid and tanh only did slightly better."
      ],
      "metadata": {
        "id": "sDj696N91dI3"
      }
    }
  ]
}